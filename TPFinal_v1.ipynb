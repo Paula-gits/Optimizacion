{
 "cells": [
  {
   "cell_type": "markdown",
   "metadata": {},
   "source": [
    "## TP Final - Optimizacion"
   ]
  },
  {
   "cell_type": "code",
   "execution_count": 42,
   "metadata": {},
   "outputs": [],
   "source": [
    "import cplex"
   ]
  },
  {
   "cell_type": "code",
   "execution_count": 58,
   "metadata": {},
   "outputs": [],
   "source": [
    "TOLERANCE =10e-6 \n",
    "TURNOS=5\n",
    "DIAS=6\n",
    "\n",
    "class Orden:\n",
    "    def __init__(self):\n",
    "        self.id = 0\n",
    "        self.beneficio = 0\n",
    "        self.trabajadores_necesarios = 0\n",
    "    \n",
    "    def load(self, row):\n",
    "        self.id = int(row[0])\n",
    "        self.beneficio = int(row[1])\n",
    "        self.trabajadores_necesarios = int(row[2])\n",
    "        \n",
    "\n",
    "class FieldWorkAssignment:\n",
    "    def __init__(self):\n",
    "        self.cantidad_trabajadores = 0\n",
    "        self.cantidad_ordenes = 0\n",
    "        self.ordenes = []\n",
    "        self.conflictos_trabajadores = []\n",
    "        self.ordenes_correlativas = []\n",
    "        self.ordenes_conflictivas = []\n",
    "        self.ordenes_repetitivas = []\n",
    "        \n",
    "\n",
    "    def load(self,filename):\n",
    "        # Abrimos el archivo.\n",
    "        f = open(filename)\n",
    "\n",
    "        # Leemos la cantidad de trabajadores\n",
    "        self.cantidad_trabajadores = int(f.readline())\n",
    "        \n",
    "        # Leemos la cantidad de ordenes\n",
    "        self.cantidad_ordenes = int(f.readline())\n",
    "        \n",
    "        # Leemos cada una de las ordenes.\n",
    "        self.ordenes = []\n",
    "        for i in range(self.cantidad_ordenes):\n",
    "            row = f.readline().split(' ')\n",
    "            orden = Orden()\n",
    "            orden.load(row)\n",
    "            self.ordenes.append(orden)\n",
    "\n",
    "        # Leemos la cantidad de conflictos entre los trabajadores\n",
    "        cantidad_conflictos_trabajadores = int(f.readline())\n",
    "        \n",
    "        # Leemos los conflictos entre los trabajadores\n",
    "        self.conflictos_trabajadores = []\n",
    "        for i in range(cantidad_conflictos_trabajadores):\n",
    "            row = f.readline().split(' ')\n",
    "            self.conflictos_trabajadores.append(list(map(int,row)))\n",
    "            \n",
    "        # Leemos la cantidad de ordenes correlativas\n",
    "        cantidad_ordenes_correlativas = int(f.readline())\n",
    "        \n",
    "        # Leemos las ordenes correlativas\n",
    "        self.ordenes_correlativas = []\n",
    "        for i in range(cantidad_ordenes_correlativas):\n",
    "            row = f.readline().split(' ')\n",
    "            self.ordenes_correlativas.append(list(map(int,row)))\n",
    "            \n",
    "        # Leemos la cantidad de ordenes conflictivas\n",
    "        cantidad_ordenes_conflictivas = int(f.readline())\n",
    "        \n",
    "        # Leemos las ordenes conflictivas\n",
    "        self.ordenes_conflictivas = []\n",
    "        for i in range(cantidad_ordenes_conflictivas):\n",
    "            row = f.readline().split(' ')\n",
    "            self.ordenes_conflictivas.append(list(map(int,row)))\n",
    "        \n",
    "        \n",
    "        # Leemos la cantidad de ordenes repetitivas\n",
    "        cantidad_ordenes_repetitivas = int(f.readline())\n",
    "        \n",
    "        # Leemos las ordenes repetitivas\n",
    "        self.ordenes_repetitivas = []\n",
    "        for i in range(cantidad_ordenes_repetitivas):\n",
    "            row = f.readline().split(' ')\n",
    "            self.ordenes_repetitivas.append(list(map(int,row)))\n",
    "        \n",
    "        # Cerramos el archivo.\n",
    "        f.close()\n",
    "\n",
    "\n",
    "def get_instance_data():\n",
    "    #file_location = sys.argv[1].strip()\n",
    "    file_location='data/input_data.txt'\n",
    "    instance = FieldWorkAssignment()\n",
    "    instance.load(file_location)\n",
    "    return instance\n",
    "     \n"
   ]
  },
  {
   "cell_type": "code",
   "execution_count": 4,
   "metadata": {},
   "outputs": [
    {
     "data": {
      "text/plain": [
       "300"
      ]
     },
     "execution_count": 4,
     "metadata": {},
     "output_type": "execute_result"
    }
   ],
   "source": [
    "data=get_instance_data()\n",
    "data.cantidad_trabajadores\n",
    "type(data.ordenes)\n",
    "type(data.ordenes[0])\n",
    "data.ordenes[0]\n",
    "data.ordenes[0].id\n",
    "data.ordenes[0].beneficio\n",
    "#data.ordenes[0].id\n",
    "#data.ordenes[0].beneficio\n",
    "#data.ordenes[0].trabajadores_necesarios \n",
    "#[0]*(data.cantidad_trabajadores*2)\n",
    "#data.cantidad_ordenes \n",
    "#data.ordenes\n",
    "#data.conflictos_trabajadores \n",
    "#data.ordenes_correlativas \n",
    "#data.ordenes_conflictivas\n",
    "#data.ordenes_repetitivas \n",
    "#data.cantidad_ordenes*TURNOS*DIAS"
   ]
  },
  {
   "cell_type": "code",
   "execution_count": 53,
   "metadata": {},
   "outputs": [
    {
     "data": {
      "text/plain": [
       "5"
      ]
     },
     "execution_count": 53,
     "metadata": {},
     "output_type": "execute_result"
    }
   ],
   "source": [
    "data.ordenes[1].beneficio"
   ]
  },
  {
   "cell_type": "code",
   "execution_count": null,
   "metadata": {},
   "outputs": [],
   "source": []
  },
  {
   "cell_type": "code",
   "execution_count": 60,
   "metadata": {},
   "outputs": [
    {
     "data": {
      "text/plain": [
       "[5, 6, 5, 7, 5, 5, 5, 5, 5, 10]"
      ]
     },
     "execution_count": 60,
     "metadata": {},
     "output_type": "execute_result"
    }
   ],
   "source": [
    "data=get_instance_data()\n",
    "valor_posible=[]\n",
    "for i in range(data.cantidad_ordenes):\n",
    "   valor_posible.append(data.ordenes[i].beneficio)\n",
    "\n",
    "max_valor_posible=sum(valor_posible)\n",
    "valor_posible\n",
    "#\n",
    "#[1_000, 1_200,1_400, 1_500]*data.cantidad_trabajadores"
   ]
  },
  {
   "cell_type": "code",
   "execution_count": 63,
   "metadata": {},
   "outputs": [
    {
     "data": {
      "text/plain": [
       "[5, 5, 5, 5, 5, 5, 5, 5, 5, 5]"
      ]
     },
     "execution_count": 63,
     "metadata": {},
     "output_type": "execute_result"
    }
   ],
   "source": [
    "lista_beneficio=[]\n",
    "for i in range(data.cantidad_ordenes):\n",
    "   lista_beneficio.append(data.ordenes[i].beneficio)\n",
    "\n",
    "max_valor_posible=sum(lista_beneficio)\n",
    "lista_beneficio"
   ]
  },
  {
   "cell_type": "code",
   "execution_count": 36,
   "metadata": {},
   "outputs": [
    {
     "data": {
      "text/plain": [
       "[[0, 1, 2], [4, 5, 6]]"
      ]
     },
     "execution_count": 36,
     "metadata": {},
     "output_type": "execute_result"
    }
   ],
   "source": [
    "indices = [0,1,2]\n",
    "values = [4,5,6]\n",
    "row = [indices,values]\n",
    "row"
   ]
  },
  {
   "cell_type": "code",
   "execution_count": 68,
   "metadata": {},
   "outputs": [
    {
     "name": "stdout",
     "output_type": "stream",
     "text": [
      "[1, 1, 1, 1, 1, 1, 1, 1, 1, 1, 1, 1, 1, 1, 1, 1, 1, 1, 1, 1, 1, 1, 1, 1, 1, 1, 1, 1, 1, 1, 0, 0, 0, 0, 0, 0, 0, 0, 0, 0, 0, 0, 0, 0, 0, 0, 0, 0, 0, 0, 0, 0, 0, 0, 0, 0, 0, 0, 0, 0, 0, 0, 0, 0, 0, 0, 0, 0, 0, 0, 0, 0, 0, 0, 0, 0, 0, 0, 0, 0, 0, 0, 0, 0, 0, 0, 0, 0, 0, 0, 0, 0, 0, 0, 0, 0, 0, 0, 0, 0, 0, 0, 0, 0, 0, 0, 0, 0, 0, 0, 0, 0, 0, 0, 0, 0, 0, 0, 0, 0, 0, 0, 0, 0, 0, 0, 0, 0, 0, 0, 0, 0, 0, 0, 0, 0, 0, 0, 0, 0, 0, 0, 0, 0, 0, 0, 0, 0, 0, 0, 0, 0, 0, 0, 0, 0, 0, 0, 0, 0, 0, 0, 0, 0, 0, 0, 0, 0, 0, 0, 0, 0, 0, 0, 0, 0, 0, 0, 0, 0, 0, 0, 0, 0, 0, 0, 0, 0, 0, 0, 0, 0, 0, 0, 0, 0, 0, 0, 0, 0, 0, 0, 0, 0, 0, 0, 0, 0, 0, 0, 0, 0, 0, 0, 0, 0, 0, 0, 0, 0, 0, 0, 0, 0, 0, 0, 0, 0, 0, 0, 0, 0, 0, 0, 0, 0, 0, 0, 0, 0, 0, 0, 0, 0, 0, 0, 0, 0, 0, 0, 0, 0, 0, 0, 0, 0, 0, 0, 0, 0, 0, 0, 0, 0, 0, 0, 0, 0, 0, 0, 0, 0, 0, 0, 0, 0, 0, 0, 0, 0, 0, 0, 0, 0, 0, 0, 0, 0, 0, 0, 0, 0, 0, 0, 0, 0, 0, 0, 0, 0]\n",
      "[0, 0, 0, 0, 0, 0, 0, 0, 0, 0, 0, 0, 0, 0, 0, 0, 0, 0, 0, 0, 0, 0, 0, 0, 0, 0, 0, 0, 0, 0, 1, 1, 1, 1, 1, 1, 1, 1, 1, 1, 1, 1, 1, 1, 1, 1, 1, 1, 1, 1, 1, 1, 1, 1, 1, 1, 1, 1, 1, 1, 0, 0, 0, 0, 0, 0, 0, 0, 0, 0, 0, 0, 0, 0, 0, 0, 0, 0, 0, 0, 0, 0, 0, 0, 0, 0, 0, 0, 0, 0, 0, 0, 0, 0, 0, 0, 0, 0, 0, 0, 0, 0, 0, 0, 0, 0, 0, 0, 0, 0, 0, 0, 0, 0, 0, 0, 0, 0, 0, 0, 0, 0, 0, 0, 0, 0, 0, 0, 0, 0, 0, 0, 0, 0, 0, 0, 0, 0, 0, 0, 0, 0, 0, 0, 0, 0, 0, 0, 0, 0, 0, 0, 0, 0, 0, 0, 0, 0, 0, 0, 0, 0, 0, 0, 0, 0, 0, 0, 0, 0, 0, 0, 0, 0, 0, 0, 0, 0, 0, 0, 0, 0, 0, 0, 0, 0, 0, 0, 0, 0, 0, 0, 0, 0, 0, 0, 0, 0, 0, 0, 0, 0, 0, 0, 0, 0, 0, 0, 0, 0, 0, 0, 0, 0, 0, 0, 0, 0, 0, 0, 0, 0, 0, 0, 0, 0, 0, 0, 0, 0, 0, 0, 0, 0, 0, 0, 0, 0, 0, 0, 0, 0, 0, 0, 0, 0, 0, 0, 0, 0, 0, 0, 0, 0, 0, 0, 0, 0, 0, 0, 0, 0, 0, 0, 0, 0, 0, 0, 0, 0, 0, 0, 0, 0, 0, 0, 0, 0, 0, 0, 0, 0, 0, 0, 0, 0, 0, 0, 0, 0, 0, 0, 0, 0, 0, 0, 0, 0, 0, 0]\n",
      "[0, 0, 0, 0, 0, 0, 0, 0, 0, 0, 0, 0, 0, 0, 0, 0, 0, 0, 0, 0, 0, 0, 0, 0, 0, 0, 0, 0, 0, 0, 0, 0, 0, 0, 0, 0, 0, 0, 0, 0, 0, 0, 0, 0, 0, 0, 0, 0, 0, 0, 0, 0, 0, 0, 0, 0, 0, 0, 0, 0, 1, 1, 1, 1, 1, 1, 1, 1, 1, 1, 1, 1, 1, 1, 1, 1, 1, 1, 1, 1, 1, 1, 1, 1, 1, 1, 1, 1, 1, 1, 0, 0, 0, 0, 0, 0, 0, 0, 0, 0, 0, 0, 0, 0, 0, 0, 0, 0, 0, 0, 0, 0, 0, 0, 0, 0, 0, 0, 0, 0, 0, 0, 0, 0, 0, 0, 0, 0, 0, 0, 0, 0, 0, 0, 0, 0, 0, 0, 0, 0, 0, 0, 0, 0, 0, 0, 0, 0, 0, 0, 0, 0, 0, 0, 0, 0, 0, 0, 0, 0, 0, 0, 0, 0, 0, 0, 0, 0, 0, 0, 0, 0, 0, 0, 0, 0, 0, 0, 0, 0, 0, 0, 0, 0, 0, 0, 0, 0, 0, 0, 0, 0, 0, 0, 0, 0, 0, 0, 0, 0, 0, 0, 0, 0, 0, 0, 0, 0, 0, 0, 0, 0, 0, 0, 0, 0, 0, 0, 0, 0, 0, 0, 0, 0, 0, 0, 0, 0, 0, 0, 0, 0, 0, 0, 0, 0, 0, 0, 0, 0, 0, 0, 0, 0, 0, 0, 0, 0, 0, 0, 0, 0, 0, 0, 0, 0, 0, 0, 0, 0, 0, 0, 0, 0, 0, 0, 0, 0, 0, 0, 0, 0, 0, 0, 0, 0, 0, 0, 0, 0, 0, 0, 0, 0, 0, 0, 0, 0, 0, 0, 0, 0, 0, 0, 0, 0, 0, 0, 0, 0]\n",
      "[0, 0, 0, 0, 0, 0, 0, 0, 0, 0, 0, 0, 0, 0, 0, 0, 0, 0, 0, 0, 0, 0, 0, 0, 0, 0, 0, 0, 0, 0, 0, 0, 0, 0, 0, 0, 0, 0, 0, 0, 0, 0, 0, 0, 0, 0, 0, 0, 0, 0, 0, 0, 0, 0, 0, 0, 0, 0, 0, 0, 0, 0, 0, 0, 0, 0, 0, 0, 0, 0, 0, 0, 0, 0, 0, 0, 0, 0, 0, 0, 0, 0, 0, 0, 0, 0, 0, 0, 0, 0, 1, 1, 1, 1, 1, 1, 1, 1, 1, 1, 1, 1, 1, 1, 1, 1, 1, 1, 1, 1, 1, 1, 1, 1, 1, 1, 1, 1, 1, 1, 0, 0, 0, 0, 0, 0, 0, 0, 0, 0, 0, 0, 0, 0, 0, 0, 0, 0, 0, 0, 0, 0, 0, 0, 0, 0, 0, 0, 0, 0, 0, 0, 0, 0, 0, 0, 0, 0, 0, 0, 0, 0, 0, 0, 0, 0, 0, 0, 0, 0, 0, 0, 0, 0, 0, 0, 0, 0, 0, 0, 0, 0, 0, 0, 0, 0, 0, 0, 0, 0, 0, 0, 0, 0, 0, 0, 0, 0, 0, 0, 0, 0, 0, 0, 0, 0, 0, 0, 0, 0, 0, 0, 0, 0, 0, 0, 0, 0, 0, 0, 0, 0, 0, 0, 0, 0, 0, 0, 0, 0, 0, 0, 0, 0, 0, 0, 0, 0, 0, 0, 0, 0, 0, 0, 0, 0, 0, 0, 0, 0, 0, 0, 0, 0, 0, 0, 0, 0, 0, 0, 0, 0, 0, 0, 0, 0, 0, 0, 0, 0, 0, 0, 0, 0, 0, 0, 0, 0, 0, 0, 0, 0, 0, 0, 0, 0, 0, 0, 0, 0, 0, 0, 0, 0, 0, 0, 0, 0, 0, 0]\n",
      "[0, 0, 0, 0, 0, 0, 0, 0, 0, 0, 0, 0, 0, 0, 0, 0, 0, 0, 0, 0, 0, 0, 0, 0, 0, 0, 0, 0, 0, 0, 0, 0, 0, 0, 0, 0, 0, 0, 0, 0, 0, 0, 0, 0, 0, 0, 0, 0, 0, 0, 0, 0, 0, 0, 0, 0, 0, 0, 0, 0, 0, 0, 0, 0, 0, 0, 0, 0, 0, 0, 0, 0, 0, 0, 0, 0, 0, 0, 0, 0, 0, 0, 0, 0, 0, 0, 0, 0, 0, 0, 0, 0, 0, 0, 0, 0, 0, 0, 0, 0, 0, 0, 0, 0, 0, 0, 0, 0, 0, 0, 0, 0, 0, 0, 0, 0, 0, 0, 0, 0, 1, 1, 1, 1, 1, 1, 1, 1, 1, 1, 1, 1, 1, 1, 1, 1, 1, 1, 1, 1, 1, 1, 1, 1, 1, 1, 1, 1, 1, 1, 0, 0, 0, 0, 0, 0, 0, 0, 0, 0, 0, 0, 0, 0, 0, 0, 0, 0, 0, 0, 0, 0, 0, 0, 0, 0, 0, 0, 0, 0, 0, 0, 0, 0, 0, 0, 0, 0, 0, 0, 0, 0, 0, 0, 0, 0, 0, 0, 0, 0, 0, 0, 0, 0, 0, 0, 0, 0, 0, 0, 0, 0, 0, 0, 0, 0, 0, 0, 0, 0, 0, 0, 0, 0, 0, 0, 0, 0, 0, 0, 0, 0, 0, 0, 0, 0, 0, 0, 0, 0, 0, 0, 0, 0, 0, 0, 0, 0, 0, 0, 0, 0, 0, 0, 0, 0, 0, 0, 0, 0, 0, 0, 0, 0, 0, 0, 0, 0, 0, 0, 0, 0, 0, 0, 0, 0, 0, 0, 0, 0, 0, 0, 0, 0, 0, 0, 0, 0, 0, 0, 0, 0, 0, 0, 0, 0, 0, 0, 0, 0]\n",
      "[0, 0, 0, 0, 0, 0, 0, 0, 0, 0, 0, 0, 0, 0, 0, 0, 0, 0, 0, 0, 0, 0, 0, 0, 0, 0, 0, 0, 0, 0, 0, 0, 0, 0, 0, 0, 0, 0, 0, 0, 0, 0, 0, 0, 0, 0, 0, 0, 0, 0, 0, 0, 0, 0, 0, 0, 0, 0, 0, 0, 0, 0, 0, 0, 0, 0, 0, 0, 0, 0, 0, 0, 0, 0, 0, 0, 0, 0, 0, 0, 0, 0, 0, 0, 0, 0, 0, 0, 0, 0, 0, 0, 0, 0, 0, 0, 0, 0, 0, 0, 0, 0, 0, 0, 0, 0, 0, 0, 0, 0, 0, 0, 0, 0, 0, 0, 0, 0, 0, 0, 0, 0, 0, 0, 0, 0, 0, 0, 0, 0, 0, 0, 0, 0, 0, 0, 0, 0, 0, 0, 0, 0, 0, 0, 0, 0, 0, 0, 0, 0, 1, 1, 1, 1, 1, 1, 1, 1, 1, 1, 1, 1, 1, 1, 1, 1, 1, 1, 1, 1, 1, 1, 1, 1, 1, 1, 1, 1, 1, 1, 0, 0, 0, 0, 0, 0, 0, 0, 0, 0, 0, 0, 0, 0, 0, 0, 0, 0, 0, 0, 0, 0, 0, 0, 0, 0, 0, 0, 0, 0, 0, 0, 0, 0, 0, 0, 0, 0, 0, 0, 0, 0, 0, 0, 0, 0, 0, 0, 0, 0, 0, 0, 0, 0, 0, 0, 0, 0, 0, 0, 0, 0, 0, 0, 0, 0, 0, 0, 0, 0, 0, 0, 0, 0, 0, 0, 0, 0, 0, 0, 0, 0, 0, 0, 0, 0, 0, 0, 0, 0, 0, 0, 0, 0, 0, 0, 0, 0, 0, 0, 0, 0, 0, 0, 0, 0, 0, 0, 0, 0, 0, 0, 0, 0, 0, 0, 0, 0, 0, 0]\n",
      "[0, 0, 0, 0, 0, 0, 0, 0, 0, 0, 0, 0, 0, 0, 0, 0, 0, 0, 0, 0, 0, 0, 0, 0, 0, 0, 0, 0, 0, 0, 0, 0, 0, 0, 0, 0, 0, 0, 0, 0, 0, 0, 0, 0, 0, 0, 0, 0, 0, 0, 0, 0, 0, 0, 0, 0, 0, 0, 0, 0, 0, 0, 0, 0, 0, 0, 0, 0, 0, 0, 0, 0, 0, 0, 0, 0, 0, 0, 0, 0, 0, 0, 0, 0, 0, 0, 0, 0, 0, 0, 0, 0, 0, 0, 0, 0, 0, 0, 0, 0, 0, 0, 0, 0, 0, 0, 0, 0, 0, 0, 0, 0, 0, 0, 0, 0, 0, 0, 0, 0, 0, 0, 0, 0, 0, 0, 0, 0, 0, 0, 0, 0, 0, 0, 0, 0, 0, 0, 0, 0, 0, 0, 0, 0, 0, 0, 0, 0, 0, 0, 0, 0, 0, 0, 0, 0, 0, 0, 0, 0, 0, 0, 0, 0, 0, 0, 0, 0, 0, 0, 0, 0, 0, 0, 0, 0, 0, 0, 0, 0, 1, 1, 1, 1, 1, 1, 1, 1, 1, 1, 1, 1, 1, 1, 1, 1, 1, 1, 1, 1, 1, 1, 1, 1, 1, 1, 1, 1, 1, 1, 0, 0, 0, 0, 0, 0, 0, 0, 0, 0, 0, 0, 0, 0, 0, 0, 0, 0, 0, 0, 0, 0, 0, 0, 0, 0, 0, 0, 0, 0, 0, 0, 0, 0, 0, 0, 0, 0, 0, 0, 0, 0, 0, 0, 0, 0, 0, 0, 0, 0, 0, 0, 0, 0, 0, 0, 0, 0, 0, 0, 0, 0, 0, 0, 0, 0, 0, 0, 0, 0, 0, 0, 0, 0, 0, 0, 0, 0, 0, 0, 0, 0, 0, 0, 0, 0, 0, 0, 0, 0]\n",
      "[0, 0, 0, 0, 0, 0, 0, 0, 0, 0, 0, 0, 0, 0, 0, 0, 0, 0, 0, 0, 0, 0, 0, 0, 0, 0, 0, 0, 0, 0, 0, 0, 0, 0, 0, 0, 0, 0, 0, 0, 0, 0, 0, 0, 0, 0, 0, 0, 0, 0, 0, 0, 0, 0, 0, 0, 0, 0, 0, 0, 0, 0, 0, 0, 0, 0, 0, 0, 0, 0, 0, 0, 0, 0, 0, 0, 0, 0, 0, 0, 0, 0, 0, 0, 0, 0, 0, 0, 0, 0, 0, 0, 0, 0, 0, 0, 0, 0, 0, 0, 0, 0, 0, 0, 0, 0, 0, 0, 0, 0, 0, 0, 0, 0, 0, 0, 0, 0, 0, 0, 0, 0, 0, 0, 0, 0, 0, 0, 0, 0, 0, 0, 0, 0, 0, 0, 0, 0, 0, 0, 0, 0, 0, 0, 0, 0, 0, 0, 0, 0, 0, 0, 0, 0, 0, 0, 0, 0, 0, 0, 0, 0, 0, 0, 0, 0, 0, 0, 0, 0, 0, 0, 0, 0, 0, 0, 0, 0, 0, 0, 0, 0, 0, 0, 0, 0, 0, 0, 0, 0, 0, 0, 0, 0, 0, 0, 0, 0, 0, 0, 0, 0, 0, 0, 0, 0, 0, 0, 0, 0, 1, 1, 1, 1, 1, 1, 1, 1, 1, 1, 1, 1, 1, 1, 1, 1, 1, 1, 1, 1, 1, 1, 1, 1, 1, 1, 1, 1, 1, 1, 0, 0, 0, 0, 0, 0, 0, 0, 0, 0, 0, 0, 0, 0, 0, 0, 0, 0, 0, 0, 0, 0, 0, 0, 0, 0, 0, 0, 0, 0, 0, 0, 0, 0, 0, 0, 0, 0, 0, 0, 0, 0, 0, 0, 0, 0, 0, 0, 0, 0, 0, 0, 0, 0, 0, 0, 0, 0, 0, 0]\n",
      "[0, 0, 0, 0, 0, 0, 0, 0, 0, 0, 0, 0, 0, 0, 0, 0, 0, 0, 0, 0, 0, 0, 0, 0, 0, 0, 0, 0, 0, 0, 0, 0, 0, 0, 0, 0, 0, 0, 0, 0, 0, 0, 0, 0, 0, 0, 0, 0, 0, 0, 0, 0, 0, 0, 0, 0, 0, 0, 0, 0, 0, 0, 0, 0, 0, 0, 0, 0, 0, 0, 0, 0, 0, 0, 0, 0, 0, 0, 0, 0, 0, 0, 0, 0, 0, 0, 0, 0, 0, 0, 0, 0, 0, 0, 0, 0, 0, 0, 0, 0, 0, 0, 0, 0, 0, 0, 0, 0, 0, 0, 0, 0, 0, 0, 0, 0, 0, 0, 0, 0, 0, 0, 0, 0, 0, 0, 0, 0, 0, 0, 0, 0, 0, 0, 0, 0, 0, 0, 0, 0, 0, 0, 0, 0, 0, 0, 0, 0, 0, 0, 0, 0, 0, 0, 0, 0, 0, 0, 0, 0, 0, 0, 0, 0, 0, 0, 0, 0, 0, 0, 0, 0, 0, 0, 0, 0, 0, 0, 0, 0, 0, 0, 0, 0, 0, 0, 0, 0, 0, 0, 0, 0, 0, 0, 0, 0, 0, 0, 0, 0, 0, 0, 0, 0, 0, 0, 0, 0, 0, 0, 0, 0, 0, 0, 0, 0, 0, 0, 0, 0, 0, 0, 0, 0, 0, 0, 0, 0, 0, 0, 0, 0, 0, 0, 0, 0, 0, 0, 0, 0, 1, 1, 1, 1, 1, 1, 1, 1, 1, 1, 1, 1, 1, 1, 1, 1, 1, 1, 1, 1, 1, 1, 1, 1, 1, 1, 1, 1, 1, 1, 0, 0, 0, 0, 0, 0, 0, 0, 0, 0, 0, 0, 0, 0, 0, 0, 0, 0, 0, 0, 0, 0, 0, 0, 0, 0, 0, 0, 0, 0]\n",
      "[0, 0, 0, 0, 0, 0, 0, 0, 0, 0, 0, 0, 0, 0, 0, 0, 0, 0, 0, 0, 0, 0, 0, 0, 0, 0, 0, 0, 0, 0, 0, 0, 0, 0, 0, 0, 0, 0, 0, 0, 0, 0, 0, 0, 0, 0, 0, 0, 0, 0, 0, 0, 0, 0, 0, 0, 0, 0, 0, 0, 0, 0, 0, 0, 0, 0, 0, 0, 0, 0, 0, 0, 0, 0, 0, 0, 0, 0, 0, 0, 0, 0, 0, 0, 0, 0, 0, 0, 0, 0, 0, 0, 0, 0, 0, 0, 0, 0, 0, 0, 0, 0, 0, 0, 0, 0, 0, 0, 0, 0, 0, 0, 0, 0, 0, 0, 0, 0, 0, 0, 0, 0, 0, 0, 0, 0, 0, 0, 0, 0, 0, 0, 0, 0, 0, 0, 0, 0, 0, 0, 0, 0, 0, 0, 0, 0, 0, 0, 0, 0, 0, 0, 0, 0, 0, 0, 0, 0, 0, 0, 0, 0, 0, 0, 0, 0, 0, 0, 0, 0, 0, 0, 0, 0, 0, 0, 0, 0, 0, 0, 0, 0, 0, 0, 0, 0, 0, 0, 0, 0, 0, 0, 0, 0, 0, 0, 0, 0, 0, 0, 0, 0, 0, 0, 0, 0, 0, 0, 0, 0, 0, 0, 0, 0, 0, 0, 0, 0, 0, 0, 0, 0, 0, 0, 0, 0, 0, 0, 0, 0, 0, 0, 0, 0, 0, 0, 0, 0, 0, 0, 0, 0, 0, 0, 0, 0, 0, 0, 0, 0, 0, 0, 0, 0, 0, 0, 0, 0, 0, 0, 0, 0, 0, 0, 0, 0, 0, 0, 0, 0, 1, 1, 1, 1, 1, 1, 1, 1, 1, 1, 1, 1, 1, 1, 1, 1, 1, 1, 1, 1, 1, 1, 1, 1, 1, 1, 1, 1, 1, 1]\n"
     ]
    },
    {
     "data": {
      "text/plain": [
       "300"
      ]
     },
     "execution_count": 68,
     "metadata": {},
     "output_type": "execute_result"
    }
   ],
   "source": [
    "for j in  range(data.cantidad_ordenes):\n",
    "    lista= [0]*data.cantidad_ordenes*TURNOS*DIAS\n",
    "    for i in range((j)*TURNOS*DIAS, (j+1)*TURNOS*DIAS):\n",
    "        lista[i]=1\n",
    "    print(lista)\n",
    "len(lista)"
   ]
  },
  {
   "cell_type": "code",
   "execution_count": null,
   "metadata": {},
   "outputs": [],
   "source": []
  },
  {
   "cell_type": "code",
   "execution_count": 32,
   "metadata": {},
   "outputs": [],
   "source": [
    "def add_constraint_matrix(my_problem, data):\n",
    "    \n",
    "    # Restriccion cada R(j)<=1 la suma de todos los R que sean del mismo j pero distinta k o l deben ser 1\n",
    "\n",
    "    indices = ...\n",
    "    values = ...\n",
    "    row = [indices,values]\n",
    "    my_problem.linear_constraints.add(lin_expr=[row], senses=['L'], rhs=[1])"
   ]
  },
  {
   "cell_type": "code",
   "execution_count": 69,
   "metadata": {},
   "outputs": [],
   "source": [
    "def add_constraint_matrix(my_problem, data):\n",
    "    \n",
    "    # Restriccion cada R(j)<=1 la suma de todos los R que sean del mismo j pero distinta k o l deben ser 1\n",
    "    for j in  range(data.cantidad_ordenes):\n",
    "        lista= [0]*data.cantidad_ordenes*TURNOS*DIAS\n",
    "        for i in range((j)*TURNOS*DIAS, (j+1)*TURNOS*DIAS):\n",
    "            lista[i]=1\n",
    "        indices = lista+[0]*(data.cantidad_trabajadores*4)     \n",
    "        values = lista+[0]*(data.cantidad_trabajadores*4)  # porque no esta multiplicado por nada\n",
    "        row = [indices,values]\n",
    "        my_problem.linear_constraints.add(lin_expr=[row], senses=['L'], rhs=[1])"
   ]
  },
  {
   "cell_type": "code",
   "execution_count": 62,
   "metadata": {},
   "outputs": [],
   "source": [
    "def populate_by_row(my_problem, data):\n",
    "\n",
    "    # Definimos y agregamos las variables de la parte positiva de la formula beneficio\n",
    "    coef_fun_objetivo_1 = []\n",
    "    for i in range(data.cantidad_ordenes):\n",
    "        valor_orden=data.ordenes[i].beneficio\n",
    "        for _ in range(TURNOS * DIAS):\n",
    "            coef_fun_objetivo_1.append(valor_orden)\n",
    "    print(coef_fun_objetivo_1)\n",
    "    my_problem.variables.add(obj = coef_fun_objetivo_1, lb =[0]*data.cantidad_ordenes*TURNOS*DIAS, ub =[1]*data.cantidad_ordenes*TURNOS*DIAS, types=['B']*data.cantidad_ordenes*TURNOS*DIAS) \n",
    "\n",
    "    # Definimos y agregamos las variables de la parte negativa de la formula costo\n",
    "    #cada trabajador tiene N1, N2, N3, N4\n",
    " \n",
    "    coef_fun_objetivo_2=[1_000, 1_200,1_400, 1_500]*data.cantidad_trabajadores\n",
    "\n",
    "    my_problem.variables.add(obj = -1*coef_fun_objetivo_2, lb =[0]*(data.cantidad_trabajadores*4), ub =[5]*(data.cantidad_trabajadores*4), types=['I']*data.cantidad_trabajadores*4) \n",
    "\n",
    "    # Seteamos direccion del problema\n",
    "    my_problem.objective.set_sense(my_problem.objective.sense.maximize)\n",
    "    # ~ my_problem.objective.set_sense(my_problem.objective.sense.minimize)\n",
    "\n",
    "    # Definimos las restricciones del modelo. Encapsulamos esto en una funcion. \n",
    "    add_constraint_matrix(my_problem, data)\n",
    "\n",
    "    # Exportamos el LP cargado en myprob con formato .lp. \n",
    "    # Util para debug.\n",
    "    my_problem.write('balanced_assignment.lp')"
   ]
  },
  {
   "cell_type": "code",
   "execution_count": 48,
   "metadata": {},
   "outputs": [
    {
     "name": "stdout",
     "output_type": "stream",
     "text": [
      "[5, 5, 5, 5, 5, 5, 5, 5, 5, 5, 5, 5, 5, 5, 5, 5, 5, 5, 5, 5, 5, 5, 5, 5, 5, 5, 5, 5, 5, 5, 5, 5, 5, 5, 5, 5, 5, 5, 5, 5, 5, 5, 5, 5, 5, 5, 5, 5, 5, 5, 5, 5, 5, 5, 5, 5, 5, 5, 5, 5, 5, 5, 5, 5, 5, 5, 5, 5, 5, 5, 5, 5, 5, 5, 5, 5, 5, 5, 5, 5, 5, 5, 5, 5, 5, 5, 5, 5, 5, 5, 5, 5, 5, 5, 5, 5, 5, 5, 5, 5, 5, 5, 5, 5, 5, 5, 5, 5, 5, 5, 5, 5, 5, 5, 5, 5, 5, 5, 5, 5, 5, 5, 5, 5, 5, 5, 5, 5, 5, 5, 5, 5, 5, 5, 5, 5, 5, 5, 5, 5, 5, 5, 5, 5, 5, 5, 5, 5, 5, 5, 5, 5, 5, 5, 5, 5, 5, 5, 5, 5, 5, 5, 5, 5, 5, 5, 5, 5, 5, 5, 5, 5, 5, 5, 5, 5, 5, 5, 5, 5, 5, 5, 5, 5, 5, 5, 5, 5, 5, 5, 5, 5, 5, 5, 5, 5, 5, 5, 5, 5, 5, 5, 5, 5, 5, 5, 5, 5, 5, 5, 5, 5, 5, 5, 5, 5, 5, 5, 5, 5, 5, 5, 5, 5, 5, 5, 5, 5, 5, 5, 5, 5, 5, 5, 5, 5, 5, 5, 5, 5, 5, 5, 5, 5, 5, 5, 5, 5, 5, 5, 5, 5, 5, 5, 5, 5, 5, 5, 5, 5, 5, 5, 5, 5, 5, 5, 5, 5, 5, 5, 5, 5, 5, 5, 5, 5, 5, 5, 5, 5, 5, 5, 5, 5, 5, 5, 5, 5, 5, 5, 5, 5, 5, 5, 5, 5, 5, 5, 5, 5]\n"
     ]
    }
   ],
   "source": [
    "coef_fun_objetivo_1 = []\n",
    "for i in range(data.cantidad_ordenes):\n",
    "    valor_orden=data.ordenes[i].beneficio\n",
    "    for _ in range(TURNOS * DIAS):\n",
    "        coef_fun_objetivo_1.append(valor_orden)\n",
    "print(coef_fun_objetivo_1)"
   ]
  },
  {
   "cell_type": "code",
   "execution_count": 34,
   "metadata": {},
   "outputs": [],
   "source": [
    "def solve_lp(my_problem, data):\n",
    "    \n",
    "    # Resolvemos el ILP.\n",
    "    \n",
    "    my_problem.solve()\n",
    "\n",
    "    # Obtenemos informacion de la solucion. Esto lo hacemos a traves de 'solution'. \n",
    "    x_variables = my_problem.solution.get_values()\n",
    "    objective_value = my_problem.solution.get_objective_value()\n",
    "    status = my_problem.solution.get_status()\n",
    "    status_string = my_problem.solution.get_status_string(status_code = status)\n",
    "\n",
    "    print('Funcion objetivo: ',objective_value)\n",
    "    print('Status solucion: ',status_string,'(' + str(status) + ')')\n",
    "\n",
    "    # Imprimimos las variables usadas.\n",
    "    for i in range(len(x_variables)):\n",
    "        # Tomamos esto como valor de tolerancia, por cuestiones numericas.\n",
    "        if x_variables[i] > TOLERANCE:\n",
    "            print('x_' + str(data.items[i].index) + ':' , x_variables[i])\n"
   ]
  },
  {
   "cell_type": "code",
   "execution_count": 35,
   "metadata": {},
   "outputs": [],
   "source": [
    "data = get_instance_data()"
   ]
  },
  {
   "cell_type": "code",
   "execution_count": 61,
   "metadata": {},
   "outputs": [],
   "source": [
    "prob_lp = cplex.Cplex()"
   ]
  },
  {
   "cell_type": "code",
   "execution_count": 70,
   "metadata": {},
   "outputs": [
    {
     "name": "stderr",
     "output_type": "stream",
     "text": [
      "CPLEX Error  1222: Duplicate entry or entries.\n"
     ]
    },
    {
     "name": "stdout",
     "output_type": "stream",
     "text": [
      "[5, 5, 5, 5, 5, 5, 5, 5, 5, 5, 5, 5, 5, 5, 5, 5, 5, 5, 5, 5, 5, 5, 5, 5, 5, 5, 5, 5, 5, 5, 6, 6, 6, 6, 6, 6, 6, 6, 6, 6, 6, 6, 6, 6, 6, 6, 6, 6, 6, 6, 6, 6, 6, 6, 6, 6, 6, 6, 6, 6, 5, 5, 5, 5, 5, 5, 5, 5, 5, 5, 5, 5, 5, 5, 5, 5, 5, 5, 5, 5, 5, 5, 5, 5, 5, 5, 5, 5, 5, 5, 7, 7, 7, 7, 7, 7, 7, 7, 7, 7, 7, 7, 7, 7, 7, 7, 7, 7, 7, 7, 7, 7, 7, 7, 7, 7, 7, 7, 7, 7, 5, 5, 5, 5, 5, 5, 5, 5, 5, 5, 5, 5, 5, 5, 5, 5, 5, 5, 5, 5, 5, 5, 5, 5, 5, 5, 5, 5, 5, 5, 5, 5, 5, 5, 5, 5, 5, 5, 5, 5, 5, 5, 5, 5, 5, 5, 5, 5, 5, 5, 5, 5, 5, 5, 5, 5, 5, 5, 5, 5, 5, 5, 5, 5, 5, 5, 5, 5, 5, 5, 5, 5, 5, 5, 5, 5, 5, 5, 5, 5, 5, 5, 5, 5, 5, 5, 5, 5, 5, 5, 5, 5, 5, 5, 5, 5, 5, 5, 5, 5, 5, 5, 5, 5, 5, 5, 5, 5, 5, 5, 5, 5, 5, 5, 5, 5, 5, 5, 5, 5, 5, 5, 5, 5, 5, 5, 5, 5, 5, 5, 5, 5, 5, 5, 5, 5, 5, 5, 5, 5, 5, 5, 5, 5, 5, 5, 5, 5, 5, 5, 10, 10, 10, 10, 10, 10, 10, 10, 10, 10, 10, 10, 10, 10, 10, 10, 10, 10, 10, 10, 10, 10, 10, 10, 10, 10, 10, 10, 10, 10]\n"
     ]
    },
    {
     "ename": "CplexSolverError",
     "evalue": "CPLEX Error  1222: Duplicate entry or entries.",
     "output_type": "error",
     "traceback": [
      "\u001b[1;31m---------------------------------------------------------------------------\u001b[0m",
      "\u001b[1;31mCplexSolverError\u001b[0m                          Traceback (most recent call last)",
      "\u001b[1;32mc:\\Users\\Pc\\Documents\\OptimTP\\TPFinal_v1.ipynb Cell 20\u001b[0m line \u001b[0;36m1\n\u001b[1;32m----> <a href='vscode-notebook-cell:/c%3A/Users/Pc/Documents/OptimTP/TPFinal_v1.ipynb#X25sZmlsZQ%3D%3D?line=0'>1</a>\u001b[0m populate_by_row(prob_lp,data)\n",
      "\u001b[1;32mc:\\Users\\Pc\\Documents\\OptimTP\\TPFinal_v1.ipynb Cell 20\u001b[0m line \u001b[0;36m2\n\u001b[0;32m     <a href='vscode-notebook-cell:/c%3A/Users/Pc/Documents/OptimTP/TPFinal_v1.ipynb#X25sZmlsZQ%3D%3D?line=19'>20</a>\u001b[0m my_problem\u001b[39m.\u001b[39mobjective\u001b[39m.\u001b[39mset_sense(my_problem\u001b[39m.\u001b[39mobjective\u001b[39m.\u001b[39msense\u001b[39m.\u001b[39mmaximize)\n\u001b[0;32m     <a href='vscode-notebook-cell:/c%3A/Users/Pc/Documents/OptimTP/TPFinal_v1.ipynb#X25sZmlsZQ%3D%3D?line=20'>21</a>\u001b[0m \u001b[39m# ~ my_problem.objective.set_sense(my_problem.objective.sense.minimize)\u001b[39;00m\n\u001b[0;32m     <a href='vscode-notebook-cell:/c%3A/Users/Pc/Documents/OptimTP/TPFinal_v1.ipynb#X25sZmlsZQ%3D%3D?line=21'>22</a>\u001b[0m \n\u001b[0;32m     <a href='vscode-notebook-cell:/c%3A/Users/Pc/Documents/OptimTP/TPFinal_v1.ipynb#X25sZmlsZQ%3D%3D?line=22'>23</a>\u001b[0m \u001b[39m# Definimos las restricciones del modelo. Encapsulamos esto en una funcion. \u001b[39;00m\n\u001b[1;32m---> <a href='vscode-notebook-cell:/c%3A/Users/Pc/Documents/OptimTP/TPFinal_v1.ipynb#X25sZmlsZQ%3D%3D?line=23'>24</a>\u001b[0m add_constraint_matrix(my_problem, data)\n\u001b[0;32m     <a href='vscode-notebook-cell:/c%3A/Users/Pc/Documents/OptimTP/TPFinal_v1.ipynb#X25sZmlsZQ%3D%3D?line=25'>26</a>\u001b[0m \u001b[39m# Exportamos el LP cargado en myprob con formato .lp. \u001b[39;00m\n\u001b[0;32m     <a href='vscode-notebook-cell:/c%3A/Users/Pc/Documents/OptimTP/TPFinal_v1.ipynb#X25sZmlsZQ%3D%3D?line=26'>27</a>\u001b[0m \u001b[39m# Util para debug.\u001b[39;00m\n\u001b[0;32m     <a href='vscode-notebook-cell:/c%3A/Users/Pc/Documents/OptimTP/TPFinal_v1.ipynb#X25sZmlsZQ%3D%3D?line=27'>28</a>\u001b[0m my_problem\u001b[39m.\u001b[39mwrite(\u001b[39m'\u001b[39m\u001b[39mbalanced_assignment.lp\u001b[39m\u001b[39m'\u001b[39m)\n",
      "\u001b[1;32mc:\\Users\\Pc\\Documents\\OptimTP\\TPFinal_v1.ipynb Cell 20\u001b[0m line \u001b[0;36m1\n\u001b[0;32m      <a href='vscode-notebook-cell:/c%3A/Users/Pc/Documents/OptimTP/TPFinal_v1.ipynb#X25sZmlsZQ%3D%3D?line=8'>9</a>\u001b[0m values \u001b[39m=\u001b[39m lista\u001b[39m+\u001b[39m[\u001b[39m0\u001b[39m]\u001b[39m*\u001b[39m(data\u001b[39m.\u001b[39mcantidad_trabajadores\u001b[39m*\u001b[39m\u001b[39m4\u001b[39m)  \u001b[39m# porque no esta multiplicado por nada\u001b[39;00m\n\u001b[0;32m     <a href='vscode-notebook-cell:/c%3A/Users/Pc/Documents/OptimTP/TPFinal_v1.ipynb#X25sZmlsZQ%3D%3D?line=9'>10</a>\u001b[0m row \u001b[39m=\u001b[39m [indices,values]\n\u001b[1;32m---> <a href='vscode-notebook-cell:/c%3A/Users/Pc/Documents/OptimTP/TPFinal_v1.ipynb#X25sZmlsZQ%3D%3D?line=10'>11</a>\u001b[0m my_problem\u001b[39m.\u001b[39;49mlinear_constraints\u001b[39m.\u001b[39;49madd(lin_expr\u001b[39m=\u001b[39;49m[row], senses\u001b[39m=\u001b[39;49m[\u001b[39m'\u001b[39;49m\u001b[39mL\u001b[39;49m\u001b[39m'\u001b[39;49m], rhs\u001b[39m=\u001b[39;49m[\u001b[39m1\u001b[39;49m])\n",
      "File \u001b[1;32mc:\\Users\\Pc\\Documents\\OptimTP\\lib\\site-packages\\cplex\\_internal\\_subinterfaces.py:1273\u001b[0m, in \u001b[0;36mLinearConstraintInterface.add\u001b[1;34m(self, lin_expr, senses, rhs, range_values, names)\u001b[0m\n\u001b[0;32m   1217\u001b[0m \u001b[39m\u001b[39m\u001b[39m\"\"\"Adds linear constraints to the problem.\u001b[39;00m\n\u001b[0;32m   1218\u001b[0m \n\u001b[0;32m   1219\u001b[0m \u001b[39mlinear_constraints.add accepts the keyword arguments lin_expr,\u001b[39;00m\n\u001b[1;32m   (...)\u001b[0m\n\u001b[0;32m   1269\u001b[0m \u001b[39m[0.0, 1.0, -1.0, 2.0]\u001b[39;00m\n\u001b[0;32m   1270\u001b[0m \u001b[39m\"\"\"\u001b[39;00m\n\u001b[0;32m   1271\u001b[0m lin_expr, senses, rhs, range_values, names \u001b[39m=\u001b[39m init_list_args(\n\u001b[0;32m   1272\u001b[0m     lin_expr, senses, rhs, range_values, names)\n\u001b[1;32m-> 1273\u001b[0m \u001b[39mreturn\u001b[39;00m \u001b[39mself\u001b[39;49m\u001b[39m.\u001b[39;49m_add_iter(\u001b[39mself\u001b[39;49m\u001b[39m.\u001b[39;49mget_num, \u001b[39mself\u001b[39;49m\u001b[39m.\u001b[39;49m_add,\n\u001b[0;32m   1274\u001b[0m                       lin_expr, senses, rhs, range_values, names)\n",
      "File \u001b[1;32mc:\\Users\\Pc\\Documents\\OptimTP\\lib\\site-packages\\cplex\\_internal\\_baseinterface.py:41\u001b[0m, in \u001b[0;36mBaseInterface._add_iter\u001b[1;34m(getnumfun, addfun, *args, **kwargs)\u001b[0m\n\u001b[0;32m     39\u001b[0m \u001b[39m\u001b[39m\u001b[39m\"\"\"non-public\"\"\"\u001b[39;00m\n\u001b[0;32m     40\u001b[0m old \u001b[39m=\u001b[39m getnumfun()\n\u001b[1;32m---> 41\u001b[0m addfun(\u001b[39m*\u001b[39margs, \u001b[39m*\u001b[39m\u001b[39m*\u001b[39mkwargs)\n\u001b[0;32m     42\u001b[0m \u001b[39mreturn\u001b[39;00m \u001b[39mrange\u001b[39m(old, getnumfun())\n",
      "File \u001b[1;32mc:\\Users\\Pc\\Documents\\OptimTP\\lib\\site-packages\\cplex\\_internal\\_subinterfaces.py:1201\u001b[0m, in \u001b[0;36mLinearConstraintInterface._add\u001b[1;34m(self, lin_expr, senses, rhs, range_values, names)\u001b[0m\n\u001b[0;32m   1198\u001b[0m \u001b[39mif\u001b[39;00m lin_expr:\n\u001b[0;32m   1199\u001b[0m     \u001b[39mwith\u001b[39;00m CPX_PROC\u001b[39m.\u001b[39mchbmatrix(lin_expr, \u001b[39mself\u001b[39m\u001b[39m.\u001b[39m_cplex\u001b[39m.\u001b[39m_env_lp_ptr,\n\u001b[0;32m   1200\u001b[0m                             \u001b[39m0\u001b[39m) \u001b[39mas\u001b[39;00m (rmat, nnz):\n\u001b[1;32m-> 1201\u001b[0m         CPX_PROC\u001b[39m.\u001b[39;49maddrows(\u001b[39mself\u001b[39;49m\u001b[39m.\u001b[39;49m_env\u001b[39m.\u001b[39;49m_e, \u001b[39mself\u001b[39;49m\u001b[39m.\u001b[39;49m_cplex\u001b[39m.\u001b[39;49m_lp, \u001b[39m0\u001b[39;49m,\n\u001b[0;32m   1202\u001b[0m                          num_new_rows, nnz, rhs, senses,\n\u001b[0;32m   1203\u001b[0m                          rmat, [], names)\n\u001b[0;32m   1204\u001b[0m     \u001b[39mif\u001b[39;00m range_values \u001b[39m!=\u001b[39m []:\n\u001b[0;32m   1205\u001b[0m         CPX_PROC\u001b[39m.\u001b[39mchgrngval(\n\u001b[0;32m   1206\u001b[0m             \u001b[39mself\u001b[39m\u001b[39m.\u001b[39m_env\u001b[39m.\u001b[39m_e, \u001b[39mself\u001b[39m\u001b[39m.\u001b[39m_cplex\u001b[39m.\u001b[39m_lp,\n\u001b[0;32m   1207\u001b[0m             \u001b[39mlist\u001b[39m(\u001b[39mrange\u001b[39m(num_old_rows, num_old_rows \u001b[39m+\u001b[39m num_new_rows)),\n\u001b[0;32m   1208\u001b[0m             range_values)\n",
      "File \u001b[1;32mc:\\Users\\Pc\\Documents\\OptimTP\\lib\\site-packages\\cplex\\_internal\\_procedural.py:1184\u001b[0m, in \u001b[0;36maddrows\u001b[1;34m(env, lp, ccnt, rcnt, nzcnt, rhs, sense, rmat, colname, rowname)\u001b[0m\n\u001b[0;32m   1180\u001b[0m \u001b[39mwith\u001b[39;00m LAU\u001b[39m.\u001b[39mdouble_c_array(rhs) \u001b[39mas\u001b[39;00m c_rhs:\n\u001b[0;32m   1181\u001b[0m     status \u001b[39m=\u001b[39m CR\u001b[39m.\u001b[39mCPXXaddrows(\n\u001b[0;32m   1182\u001b[0m         env, lp, ccnt, rcnt, nzcnt, c_rhs,\n\u001b[0;32m   1183\u001b[0m         sense, rmat, colname, rowname)\n\u001b[1;32m-> 1184\u001b[0m check_status(env, status)\n",
      "File \u001b[1;32mc:\\Users\\Pc\\Documents\\OptimTP\\lib\\site-packages\\cplex\\_internal\\_procedural.py:249\u001b[0m, in \u001b[0;36mStatusChecker.__call__\u001b[1;34m(self, env, status, from_cb)\u001b[0m\n\u001b[0;32m    247\u001b[0m     \u001b[39melse\u001b[39;00m:\n\u001b[0;32m    248\u001b[0m         error_string \u001b[39m=\u001b[39m geterrorstring(env, status)\n\u001b[1;32m--> 249\u001b[0m \u001b[39mraise\u001b[39;00m CplexSolverError(error_string, env, status)\n",
      "\u001b[1;31mCplexSolverError\u001b[0m: CPLEX Error  1222: Duplicate entry or entries."
     ]
    }
   ],
   "source": [
    "populate_by_row(prob_lp,data)"
   ]
  },
  {
   "cell_type": "code",
   "execution_count": 8,
   "metadata": {},
   "outputs": [
    {
     "name": "stderr",
     "output_type": "stream",
     "text": [
      "CPLEX Error  1222: Duplicate entry or entries.\n"
     ]
    },
    {
     "ename": "CplexSolverError",
     "evalue": "CPLEX Error  1222: Duplicate entry or entries.",
     "output_type": "error",
     "traceback": [
      "\u001b[1;31m---------------------------------------------------------------------------\u001b[0m",
      "\u001b[1;31mCplexSolverError\u001b[0m                          Traceback (most recent call last)",
      "\u001b[1;32mc:\\Users\\Pc\\Documents\\OptimTP\\TPFinal_v1.ipynb Cell 13\u001b[0m line \u001b[0;36m1\n\u001b[0;32m     <a href='vscode-notebook-cell:/c%3A/Users/Pc/Documents/OptimTP/TPFinal_v1.ipynb#X15sZmlsZQ%3D%3D?line=14'>15</a>\u001b[0m     solve_lp(prob_lp,data)\n\u001b[0;32m     <a href='vscode-notebook-cell:/c%3A/Users/Pc/Documents/OptimTP/TPFinal_v1.ipynb#X15sZmlsZQ%3D%3D?line=17'>18</a>\u001b[0m \u001b[39mif\u001b[39;00m \u001b[39m__name__\u001b[39m \u001b[39m==\u001b[39m \u001b[39m'\u001b[39m\u001b[39m__main__\u001b[39m\u001b[39m'\u001b[39m:\n\u001b[1;32m---> <a href='vscode-notebook-cell:/c%3A/Users/Pc/Documents/OptimTP/TPFinal_v1.ipynb#X15sZmlsZQ%3D%3D?line=18'>19</a>\u001b[0m     main()\n",
      "\u001b[1;32mc:\\Users\\Pc\\Documents\\OptimTP\\TPFinal_v1.ipynb Cell 13\u001b[0m line \u001b[0;36m1\n\u001b[0;32m      <a href='vscode-notebook-cell:/c%3A/Users/Pc/Documents/OptimTP/TPFinal_v1.ipynb#X15sZmlsZQ%3D%3D?line=8'>9</a>\u001b[0m prob_lp \u001b[39m=\u001b[39m cplex\u001b[39m.\u001b[39mCplex()\n\u001b[0;32m     <a href='vscode-notebook-cell:/c%3A/Users/Pc/Documents/OptimTP/TPFinal_v1.ipynb#X15sZmlsZQ%3D%3D?line=10'>11</a>\u001b[0m \u001b[39m# Armamos el modelo.\u001b[39;00m\n\u001b[1;32m---> <a href='vscode-notebook-cell:/c%3A/Users/Pc/Documents/OptimTP/TPFinal_v1.ipynb#X15sZmlsZQ%3D%3D?line=11'>12</a>\u001b[0m populate_by_row(prob_lp,data)\n\u001b[0;32m     <a href='vscode-notebook-cell:/c%3A/Users/Pc/Documents/OptimTP/TPFinal_v1.ipynb#X15sZmlsZQ%3D%3D?line=13'>14</a>\u001b[0m \u001b[39m# Resolvemos el modelo.\u001b[39;00m\n\u001b[0;32m     <a href='vscode-notebook-cell:/c%3A/Users/Pc/Documents/OptimTP/TPFinal_v1.ipynb#X15sZmlsZQ%3D%3D?line=14'>15</a>\u001b[0m solve_lp(prob_lp,data)\n",
      "\u001b[1;32mc:\\Users\\Pc\\Documents\\OptimTP\\TPFinal_v1.ipynb Cell 13\u001b[0m line \u001b[0;36m2\n\u001b[0;32m     <a href='vscode-notebook-cell:/c%3A/Users/Pc/Documents/OptimTP/TPFinal_v1.ipynb#X15sZmlsZQ%3D%3D?line=19'>20</a>\u001b[0m my_problem\u001b[39m.\u001b[39mobjective\u001b[39m.\u001b[39mset_sense(my_problem\u001b[39m.\u001b[39mobjective\u001b[39m.\u001b[39msense\u001b[39m.\u001b[39mmaximize)\n\u001b[0;32m     <a href='vscode-notebook-cell:/c%3A/Users/Pc/Documents/OptimTP/TPFinal_v1.ipynb#X15sZmlsZQ%3D%3D?line=20'>21</a>\u001b[0m \u001b[39m# ~ my_problem.objective.set_sense(my_problem.objective.sense.minimize)\u001b[39;00m\n\u001b[0;32m     <a href='vscode-notebook-cell:/c%3A/Users/Pc/Documents/OptimTP/TPFinal_v1.ipynb#X15sZmlsZQ%3D%3D?line=21'>22</a>\u001b[0m \n\u001b[0;32m     <a href='vscode-notebook-cell:/c%3A/Users/Pc/Documents/OptimTP/TPFinal_v1.ipynb#X15sZmlsZQ%3D%3D?line=22'>23</a>\u001b[0m \u001b[39m# Definimos las restricciones del modelo. Encapsulamos esto en una funcion. \u001b[39;00m\n\u001b[1;32m---> <a href='vscode-notebook-cell:/c%3A/Users/Pc/Documents/OptimTP/TPFinal_v1.ipynb#X15sZmlsZQ%3D%3D?line=23'>24</a>\u001b[0m add_constraint_matrix(my_problem, data)\n\u001b[0;32m     <a href='vscode-notebook-cell:/c%3A/Users/Pc/Documents/OptimTP/TPFinal_v1.ipynb#X15sZmlsZQ%3D%3D?line=25'>26</a>\u001b[0m \u001b[39m# Exportamos el LP cargado en myprob con formato .lp. \u001b[39;00m\n\u001b[0;32m     <a href='vscode-notebook-cell:/c%3A/Users/Pc/Documents/OptimTP/TPFinal_v1.ipynb#X15sZmlsZQ%3D%3D?line=26'>27</a>\u001b[0m \u001b[39m# Util para debug.\u001b[39;00m\n\u001b[0;32m     <a href='vscode-notebook-cell:/c%3A/Users/Pc/Documents/OptimTP/TPFinal_v1.ipynb#X15sZmlsZQ%3D%3D?line=27'>28</a>\u001b[0m my_problem\u001b[39m.\u001b[39mwrite(\u001b[39m'\u001b[39m\u001b[39mbalanced_assignment.lp\u001b[39m\u001b[39m'\u001b[39m)\n",
      "\u001b[1;32mc:\\Users\\Pc\\Documents\\OptimTP\\TPFinal_v1.ipynb Cell 13\u001b[0m line \u001b[0;36m1\n\u001b[0;32m     <a href='vscode-notebook-cell:/c%3A/Users/Pc/Documents/OptimTP/TPFinal_v1.ipynb#X15sZmlsZQ%3D%3D?line=14'>15</a>\u001b[0m values \u001b[39m=\u001b[39m lista \u001b[39m# porque no esta multiplicado por nada\u001b[39;00m\n\u001b[0;32m     <a href='vscode-notebook-cell:/c%3A/Users/Pc/Documents/OptimTP/TPFinal_v1.ipynb#X15sZmlsZQ%3D%3D?line=15'>16</a>\u001b[0m row \u001b[39m=\u001b[39m [indices,values]\n\u001b[1;32m---> <a href='vscode-notebook-cell:/c%3A/Users/Pc/Documents/OptimTP/TPFinal_v1.ipynb#X15sZmlsZQ%3D%3D?line=16'>17</a>\u001b[0m my_problem\u001b[39m.\u001b[39;49mlinear_constraints\u001b[39m.\u001b[39;49madd(lin_expr\u001b[39m=\u001b[39;49m[row], senses\u001b[39m=\u001b[39;49m[\u001b[39m'\u001b[39;49m\u001b[39mL\u001b[39;49m\u001b[39m'\u001b[39;49m], rhs\u001b[39m=\u001b[39;49m[\u001b[39m1\u001b[39;49m])\n",
      "File \u001b[1;32mc:\\Users\\Pc\\Documents\\OptimTP\\lib\\site-packages\\cplex\\_internal\\_subinterfaces.py:1273\u001b[0m, in \u001b[0;36mLinearConstraintInterface.add\u001b[1;34m(self, lin_expr, senses, rhs, range_values, names)\u001b[0m\n\u001b[0;32m   1217\u001b[0m \u001b[39m\u001b[39m\u001b[39m\"\"\"Adds linear constraints to the problem.\u001b[39;00m\n\u001b[0;32m   1218\u001b[0m \n\u001b[0;32m   1219\u001b[0m \u001b[39mlinear_constraints.add accepts the keyword arguments lin_expr,\u001b[39;00m\n\u001b[1;32m   (...)\u001b[0m\n\u001b[0;32m   1269\u001b[0m \u001b[39m[0.0, 1.0, -1.0, 2.0]\u001b[39;00m\n\u001b[0;32m   1270\u001b[0m \u001b[39m\"\"\"\u001b[39;00m\n\u001b[0;32m   1271\u001b[0m lin_expr, senses, rhs, range_values, names \u001b[39m=\u001b[39m init_list_args(\n\u001b[0;32m   1272\u001b[0m     lin_expr, senses, rhs, range_values, names)\n\u001b[1;32m-> 1273\u001b[0m \u001b[39mreturn\u001b[39;00m \u001b[39mself\u001b[39;49m\u001b[39m.\u001b[39;49m_add_iter(\u001b[39mself\u001b[39;49m\u001b[39m.\u001b[39;49mget_num, \u001b[39mself\u001b[39;49m\u001b[39m.\u001b[39;49m_add,\n\u001b[0;32m   1274\u001b[0m                       lin_expr, senses, rhs, range_values, names)\n",
      "File \u001b[1;32mc:\\Users\\Pc\\Documents\\OptimTP\\lib\\site-packages\\cplex\\_internal\\_baseinterface.py:41\u001b[0m, in \u001b[0;36mBaseInterface._add_iter\u001b[1;34m(getnumfun, addfun, *args, **kwargs)\u001b[0m\n\u001b[0;32m     39\u001b[0m \u001b[39m\u001b[39m\u001b[39m\"\"\"non-public\"\"\"\u001b[39;00m\n\u001b[0;32m     40\u001b[0m old \u001b[39m=\u001b[39m getnumfun()\n\u001b[1;32m---> 41\u001b[0m addfun(\u001b[39m*\u001b[39margs, \u001b[39m*\u001b[39m\u001b[39m*\u001b[39mkwargs)\n\u001b[0;32m     42\u001b[0m \u001b[39mreturn\u001b[39;00m \u001b[39mrange\u001b[39m(old, getnumfun())\n",
      "File \u001b[1;32mc:\\Users\\Pc\\Documents\\OptimTP\\lib\\site-packages\\cplex\\_internal\\_subinterfaces.py:1201\u001b[0m, in \u001b[0;36mLinearConstraintInterface._add\u001b[1;34m(self, lin_expr, senses, rhs, range_values, names)\u001b[0m\n\u001b[0;32m   1198\u001b[0m \u001b[39mif\u001b[39;00m lin_expr:\n\u001b[0;32m   1199\u001b[0m     \u001b[39mwith\u001b[39;00m CPX_PROC\u001b[39m.\u001b[39mchbmatrix(lin_expr, \u001b[39mself\u001b[39m\u001b[39m.\u001b[39m_cplex\u001b[39m.\u001b[39m_env_lp_ptr,\n\u001b[0;32m   1200\u001b[0m                             \u001b[39m0\u001b[39m) \u001b[39mas\u001b[39;00m (rmat, nnz):\n\u001b[1;32m-> 1201\u001b[0m         CPX_PROC\u001b[39m.\u001b[39;49maddrows(\u001b[39mself\u001b[39;49m\u001b[39m.\u001b[39;49m_env\u001b[39m.\u001b[39;49m_e, \u001b[39mself\u001b[39;49m\u001b[39m.\u001b[39;49m_cplex\u001b[39m.\u001b[39;49m_lp, \u001b[39m0\u001b[39;49m,\n\u001b[0;32m   1202\u001b[0m                          num_new_rows, nnz, rhs, senses,\n\u001b[0;32m   1203\u001b[0m                          rmat, [], names)\n\u001b[0;32m   1204\u001b[0m     \u001b[39mif\u001b[39;00m range_values \u001b[39m!=\u001b[39m []:\n\u001b[0;32m   1205\u001b[0m         CPX_PROC\u001b[39m.\u001b[39mchgrngval(\n\u001b[0;32m   1206\u001b[0m             \u001b[39mself\u001b[39m\u001b[39m.\u001b[39m_env\u001b[39m.\u001b[39m_e, \u001b[39mself\u001b[39m\u001b[39m.\u001b[39m_cplex\u001b[39m.\u001b[39m_lp,\n\u001b[0;32m   1207\u001b[0m             \u001b[39mlist\u001b[39m(\u001b[39mrange\u001b[39m(num_old_rows, num_old_rows \u001b[39m+\u001b[39m num_new_rows)),\n\u001b[0;32m   1208\u001b[0m             range_values)\n",
      "File \u001b[1;32mc:\\Users\\Pc\\Documents\\OptimTP\\lib\\site-packages\\cplex\\_internal\\_procedural.py:1184\u001b[0m, in \u001b[0;36maddrows\u001b[1;34m(env, lp, ccnt, rcnt, nzcnt, rhs, sense, rmat, colname, rowname)\u001b[0m\n\u001b[0;32m   1180\u001b[0m \u001b[39mwith\u001b[39;00m LAU\u001b[39m.\u001b[39mdouble_c_array(rhs) \u001b[39mas\u001b[39;00m c_rhs:\n\u001b[0;32m   1181\u001b[0m     status \u001b[39m=\u001b[39m CR\u001b[39m.\u001b[39mCPXXaddrows(\n\u001b[0;32m   1182\u001b[0m         env, lp, ccnt, rcnt, nzcnt, c_rhs,\n\u001b[0;32m   1183\u001b[0m         sense, rmat, colname, rowname)\n\u001b[1;32m-> 1184\u001b[0m check_status(env, status)\n",
      "File \u001b[1;32mc:\\Users\\Pc\\Documents\\OptimTP\\lib\\site-packages\\cplex\\_internal\\_procedural.py:249\u001b[0m, in \u001b[0;36mStatusChecker.__call__\u001b[1;34m(self, env, status, from_cb)\u001b[0m\n\u001b[0;32m    247\u001b[0m     \u001b[39melse\u001b[39;00m:\n\u001b[0;32m    248\u001b[0m         error_string \u001b[39m=\u001b[39m geterrorstring(env, status)\n\u001b[1;32m--> 249\u001b[0m \u001b[39mraise\u001b[39;00m CplexSolverError(error_string, env, status)\n",
      "\u001b[1;31mCplexSolverError\u001b[0m: CPLEX Error  1222: Duplicate entry or entries."
     ]
    }
   ],
   "source": [
    "def main():\n",
    "    \n",
    "    # Obtenemos los datos de la instancia.\n",
    "    data = get_instance_data()\n",
    "    \n",
    "    \n",
    "    \n",
    "    # Definimos el problema de cplex.\n",
    "    prob_lp = cplex.Cplex()\n",
    "    \n",
    "    # Armamos el modelo.\n",
    "    populate_by_row(prob_lp,data)\n",
    "\n",
    "    # Resolvemos el modelo.\n",
    "    solve_lp(prob_lp,data)\n",
    "\n",
    "\n",
    "if __name__ == '__main__':\n",
    "    main()\n"
   ]
  },
  {
   "cell_type": "code",
   "execution_count": 13,
   "metadata": {},
   "outputs": [
    {
     "data": {
      "text/plain": [
       "[[1, 5], [2, 6], [3, 7], [4, 8]]"
      ]
     },
     "execution_count": 13,
     "metadata": {},
     "output_type": "execute_result"
    }
   ],
   "source": [
    "answer.ordenes_repetitivas"
   ]
  },
  {
   "cell_type": "code",
   "execution_count": null,
   "metadata": {},
   "outputs": [],
   "source": []
  },
  {
   "cell_type": "code",
   "execution_count": null,
   "metadata": {},
   "outputs": [],
   "source": []
  },
  {
   "cell_type": "code",
   "execution_count": null,
   "metadata": {},
   "outputs": [],
   "source": []
  }
 ],
 "metadata": {
  "kernelspec": {
   "display_name": "OptimTP",
   "language": "python",
   "name": "python3"
  },
  "language_info": {
   "codemirror_mode": {
    "name": "ipython",
    "version": 3
   },
   "file_extension": ".py",
   "mimetype": "text/x-python",
   "name": "python",
   "nbconvert_exporter": "python",
   "pygments_lexer": "ipython3",
   "version": "3.10.2"
  },
  "orig_nbformat": 4
 },
 "nbformat": 4,
 "nbformat_minor": 2
}
