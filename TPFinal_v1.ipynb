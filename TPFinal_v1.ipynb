{
 "cells": [
  {
   "cell_type": "markdown",
   "metadata": {},
   "source": [
    "## TP Final - Optimizacion"
   ]
  },
  {
   "cell_type": "code",
   "execution_count": 1,
   "metadata": {},
   "outputs": [],
   "source": [
    "import cplex"
   ]
  },
  {
   "cell_type": "code",
   "execution_count": 2,
   "metadata": {},
   "outputs": [],
   "source": [
    "TOLERANCE =10e-6 \n",
    "\n",
    "class Orden:\n",
    "    def __init__(self):\n",
    "        self.id = 0\n",
    "        self.beneficio = 0\n",
    "        self.trabajadores_necesarios = 0\n",
    "    \n",
    "    def load(self, row):\n",
    "        self.id = int(row[0])\n",
    "        self.beneficio = int(row[1])\n",
    "        self.trabajadores_necesarios = int(row[2])\n",
    "        \n",
    "\n",
    "class FieldWorkAssignment:\n",
    "    def __init__(self):\n",
    "        self.cantidad_trabajadores = 0\n",
    "        self.cantidad_ordenes = 0\n",
    "        self.ordenes = []\n",
    "        self.conflictos_trabajadores = []\n",
    "        self.ordenes_correlativas = []\n",
    "        self.ordenes_conflictivas = []\n",
    "        self.ordenes_repetitivas = []\n",
    "        self.diccionario_indices = {}\n",
    "        self.variables_totales=0\n",
    "        self.tramos_salario=4\n",
    "        self.valor_tramo=[-1_000, -1_200,-1_400,-1_500 ]\n",
    "        self.dias_semana=6\n",
    "        self.turnos=5\n",
    "        self.variables=[]\n",
    "        self.variables_binarias=[]\n",
    "        self.variables_N=[]\n",
    "        \n",
    "\n",
    "    def load(self,filename):\n",
    "        # Abrimos el archivo.\n",
    "        f = open(filename)\n",
    "\n",
    "        # Leemos la cantidad de trabajadores\n",
    "        self.cantidad_trabajadores = int(f.readline())\n",
    "        \n",
    "        # Leemos la cantidad de ordenes\n",
    "        self.cantidad_ordenes = int(f.readline())\n",
    "        \n",
    "        # Leemos cada una de las ordenes.\n",
    "        self.ordenes = []\n",
    "        for i in range(self.cantidad_ordenes):\n",
    "            row = f.readline().split(' ')\n",
    "            orden = Orden()\n",
    "            orden.load(row)\n",
    "            self.ordenes.append(orden)\n",
    "\n",
    "        # Leemos la cantidad de conflictos entre los trabajadores\n",
    "        cantidad_conflictos_trabajadores = int(f.readline())\n",
    "        \n",
    "        # Leemos los conflictos entre los trabajadores\n",
    "        self.conflictos_trabajadores = []\n",
    "        for i in range(cantidad_conflictos_trabajadores):\n",
    "            row = f.readline().split(' ')\n",
    "            self.conflictos_trabajadores.append(list(map(int,row)))\n",
    "            \n",
    "        # Leemos la cantidad de ordenes correlativas\n",
    "        cantidad_ordenes_correlativas = int(f.readline())\n",
    "        \n",
    "        # Leemos las ordenes correlativas\n",
    "        self.ordenes_correlativas = []\n",
    "        for i in range(cantidad_ordenes_correlativas):\n",
    "            row = f.readline().split(' ')\n",
    "            self.ordenes_correlativas.append(list(map(int,row)))\n",
    "            \n",
    "        # Leemos la cantidad de ordenes conflictivas\n",
    "        cantidad_ordenes_conflictivas = int(f.readline())\n",
    "        \n",
    "        # Leemos las ordenes conflictivas\n",
    "        self.ordenes_conflictivas = []\n",
    "        for i in range(cantidad_ordenes_conflictivas):\n",
    "            row = f.readline().split(' ')\n",
    "            self.ordenes_conflictivas.append(list(map(int,row)))\n",
    "        \n",
    "        \n",
    "        # Leemos la cantidad de ordenes repetitivas\n",
    "        cantidad_ordenes_repetitivas = int(f.readline())\n",
    "        \n",
    "        # Leemos las ordenes repetitivas\n",
    "        self.ordenes_repetitivas = []\n",
    "        for i in range(cantidad_ordenes_repetitivas):\n",
    "            row = f.readline().split(' ')\n",
    "            self.ordenes_repetitivas.append(list(map(int,row)))\n",
    "\n",
    "\n",
    "        \n",
    "        I=self.cantidad_trabajadores  #trabajador\n",
    "        J=self.cantidad_ordenes  #orden o tarea\n",
    "        K=self.dias_semana  #dia de semana\n",
    "        L=self.turnos  #turno\n",
    "        N=self.tramos_salario  #tramos\n",
    "        W=N-1  #auxiliar activa tramos\n",
    "        for i in range(I):  # i \n",
    "            for j in range(J):  # j \n",
    "                for k in range(K):  # k \n",
    "                    for l in range(L):  # l \n",
    "                        clave = f\"X_{i}_{j}_{k}_{l}\"  \n",
    "                        valor = i * L*K*J + j * L*K + k * L + l  # Valor correlativo\n",
    "                        self.diccionario_indices[clave] = valor\n",
    "\n",
    "        max_valor = max(self.diccionario_indices.values())\n",
    "        for i in range(I):  # i \n",
    "            for k in range(K):  # k \n",
    "                clave = f\"D_{i}_{k}\"\n",
    "                valor = max_valor+1+i*K+k\n",
    "                self.diccionario_indices[clave] = valor\n",
    "\n",
    "        max_valor = max(self.diccionario_indices.values())\n",
    "        for j in range(J):  # j \n",
    "            for k in range(K):  # k \n",
    "                for l in range(L):  # l \n",
    "                    clave = f\"R_{j}_{k}_{l}\"  \n",
    "                    valor = max_valor+1+ j * L*K + k * L + l  # Valor correlativo\n",
    "                    self.diccionario_indices[clave] = valor\n",
    "\n",
    "        max_valor = max(self.diccionario_indices.values())\n",
    "        for i in range(I):  # i \n",
    "            for w in range(W):  # n  \n",
    "                clave = f\"W_{i}_{w}\"\n",
    "                valor = max_valor+1+i*W+w\n",
    "                self.diccionario_indices[clave] = valor\n",
    "                \n",
    "        max_valor = max(self.diccionario_indices.values())\n",
    "        for i in range(I):  # i \n",
    "            for n in range(N):  # n  \n",
    "                clave = f\"N_{i}_{n}\"\n",
    "                valor = max_valor+1+i*N+n\n",
    "                self.diccionario_indices[clave] = valor\n",
    "        max_valor = max(self.diccionario_indices.values())\n",
    "\n",
    "        self.variables=[0]* len(self.diccionario_indices)\n",
    "        # Cerramos el archivo.\n",
    "        f.close()\n",
    "\n",
    "       \n",
    "\n",
    "def get_instance_data():\n",
    "    #file_location = sys.argv[1].strip()\n",
    "    file_location='data/input_data.txt'\n",
    "    instance = FieldWorkAssignment()\n",
    "    instance.load(file_location)\n",
    "    return instance\n",
    "     \n"
   ]
  },
  {
   "cell_type": "code",
   "execution_count": 3,
   "metadata": {},
   "outputs": [
    {
     "data": {
      "text/plain": [
       "[-1000, -1200, -1400, -1500]"
      ]
     },
     "execution_count": 3,
     "metadata": {},
     "output_type": "execute_result"
    }
   ],
   "source": [
    "data=get_instance_data()\n",
    "data.valor_tramo"
   ]
  },
  {
   "cell_type": "code",
   "execution_count": 4,
   "metadata": {},
   "outputs": [],
   "source": [
    "def genera_condiciones_variables():\n",
    "    \n",
    "    for key in data.diccionario_indices.keys():\n",
    "        if key[0]=='R':\n",
    "            for j in range(data.cantidad_ordenes):\n",
    "                if key[2]==str(j):\n",
    "                    posicion=data.diccionario_indices[key]\n",
    "                    data.variables[posicion]=data.ordenes[j].beneficio\n",
    "    for key in data.diccionario_indices.keys():\n",
    "        if key[0]=='N':\n",
    "            for numero_tramo in range(data.tramos_salario):\n",
    "                if key[-1]==str(numero_tramo):\n",
    "                    posicion=data.diccionario_indices[key]\n",
    "                    data.variables[posicion]=data.valor_tramo[numero_tramo]\n",
    "    data.variables_N=data.variables[data.diccionario_indices['N_0_0']:]\n",
    "    data.variables_binarias=data.variables[:data.diccionario_indices['N_0_0']]"
   ]
  },
  {
   "cell_type": "code",
   "execution_count": 81,
   "metadata": {},
   "outputs": [
    {
     "data": {
      "text/plain": [
       "3430"
      ]
     },
     "execution_count": 81,
     "metadata": {},
     "output_type": "execute_result"
    }
   ],
   "source": []
  },
  {
   "cell_type": "code",
   "execution_count": 5,
   "metadata": {},
   "outputs": [],
   "source": [
    "genera_condiciones_variables()"
   ]
  },
  {
   "cell_type": "code",
   "execution_count": 6,
   "metadata": {},
   "outputs": [],
   "source": [
    "def add_constraint_matrix(my_problem, data):\n",
    "    for j in range(data.cantidad_ordenes):\n",
    "    # Que la suma de R en k y l sea <= a 1 para cada j  R_{j}_{k}_{l}\n",
    "        restriccion_indices=[]\n",
    "        restriccion_valores=[]\n",
    "        for t in data.diccionario_indices.keys():\n",
    "            if t[0]=='R'and t[2]==str(j):\n",
    "                \n",
    "                restriccion_indices.append(data.diccionario_indices[t])\n",
    "                restriccion_valores.append(1)\n",
    "                        \n",
    "        indices = restriccion_indices\n",
    "        values = restriccion_valores\n",
    "        row = [indices,values]\n",
    "        my_problem.linear_constraints.add(lin_expr=[row], senses=['L'], rhs=[1])               \n",
    "#restricciones['R_0']['rest_indices_dic']"
   ]
  },
  {
   "cell_type": "code",
   "execution_count": 23,
   "metadata": {},
   "outputs": [
    {
     "name": "stdout",
     "output_type": "stream",
     "text": [
      "[[3060, 3061, 3062, 3063, 3064, 3065, 3066, 3067, 3068, 3069, 3070, 3071, 3072, 3073, 3074, 3075, 3076, 3077, 3078, 3079, 3080, 3081, 3082, 3083, 3084, 3085, 3086, 3087, 3088, 3089], [1, 1, 1, 1, 1, 1, 1, 1, 1, 1, 1, 1, 1, 1, 1, 1, 1, 1, 1, 1, 1, 1, 1, 1, 1, 1, 1, 1, 1, 1]]\n"
     ]
    }
   ],
   "source": [
    "add_constraint_matrix(prob_lp, data)"
   ]
  },
  {
   "cell_type": "code",
   "execution_count": 7,
   "metadata": {},
   "outputs": [],
   "source": [
    "prob_lp = cplex.Cplex()"
   ]
  },
  {
   "cell_type": "code",
   "execution_count": 8,
   "metadata": {},
   "outputs": [],
   "source": [
    "def populate_by_row(my_problem, data):\n",
    "#VER\n",
    "    # Definimos y agregamos las variables de la parte positiva de la formula beneficio\n",
    "    coef_fun_objetivo_1 = data.variables_binarias\n",
    "    \n",
    "    my_problem.variables.add(\n",
    "        obj = coef_fun_objetivo_1, \n",
    "        lb =[0]*len(data.variables_binarias), \n",
    "        ub =[1]*len(data.variables_binarias), \n",
    "        types=['B']*len(data.variables_binarias)\n",
    "        ) \n",
    "\n",
    "    # Definimos y agregamos las variables de la parte negativa de la formula costo\n",
    "    #cada trabajador tiene N1, N2, N3, N4  si el indice que les genera es posterior al resto esta justo!!!\n",
    "    coef_fun_objetivo_2=data.variables_N\n",
    "\n",
    "    my_problem.variables.add(\n",
    "        obj = coef_fun_objetivo_2, \n",
    "        lb =[0]*len(data.variables_N), \n",
    "        ub =[5]*len(data.variables_N), \n",
    "        types=['I']*len(data.variables_N)\n",
    "        ) \n",
    "\n",
    "    # Seteamos direccion del problema\n",
    "    my_problem.objective.set_sense(my_problem.objective.sense.maximize)\n",
    "    # ~ my_problem.objective.set_sense(my_problem.objective.sense.minimize)\n",
    "\n",
    "    # Definimos las restricciones del modelo. Encapsulamos esto en una funcion. \n",
    "    add_constraint_matrix(my_problem, data)\n",
    "\n",
    "    # Exportamos el LP cargado en myprob con formato .lp. \n",
    "    # Util para debug.\n",
    "    my_problem.write('balanced_assignment.lp')"
   ]
  },
  {
   "cell_type": "code",
   "execution_count": 9,
   "metadata": {},
   "outputs": [
    {
     "name": "stderr",
     "output_type": "stream",
     "text": [
      "Default variable names x1, x2 ... being created.\n",
      "Default row names c1, c2 ... being created.\n"
     ]
    }
   ],
   "source": [
    "populate_by_row(prob_lp, data)"
   ]
  },
  {
   "cell_type": "code",
   "execution_count": 48,
   "metadata": {},
   "outputs": [
    {
     "name": "stdout",
     "output_type": "stream",
     "text": [
      "[5, 5, 5, 5, 5, 5, 5, 5, 5, 5, 5, 5, 5, 5, 5, 5, 5, 5, 5, 5, 5, 5, 5, 5, 5, 5, 5, 5, 5, 5, 5, 5, 5, 5, 5, 5, 5, 5, 5, 5, 5, 5, 5, 5, 5, 5, 5, 5, 5, 5, 5, 5, 5, 5, 5, 5, 5, 5, 5, 5, 5, 5, 5, 5, 5, 5, 5, 5, 5, 5, 5, 5, 5, 5, 5, 5, 5, 5, 5, 5, 5, 5, 5, 5, 5, 5, 5, 5, 5, 5, 5, 5, 5, 5, 5, 5, 5, 5, 5, 5, 5, 5, 5, 5, 5, 5, 5, 5, 5, 5, 5, 5, 5, 5, 5, 5, 5, 5, 5, 5, 5, 5, 5, 5, 5, 5, 5, 5, 5, 5, 5, 5, 5, 5, 5, 5, 5, 5, 5, 5, 5, 5, 5, 5, 5, 5, 5, 5, 5, 5, 5, 5, 5, 5, 5, 5, 5, 5, 5, 5, 5, 5, 5, 5, 5, 5, 5, 5, 5, 5, 5, 5, 5, 5, 5, 5, 5, 5, 5, 5, 5, 5, 5, 5, 5, 5, 5, 5, 5, 5, 5, 5, 5, 5, 5, 5, 5, 5, 5, 5, 5, 5, 5, 5, 5, 5, 5, 5, 5, 5, 5, 5, 5, 5, 5, 5, 5, 5, 5, 5, 5, 5, 5, 5, 5, 5, 5, 5, 5, 5, 5, 5, 5, 5, 5, 5, 5, 5, 5, 5, 5, 5, 5, 5, 5, 5, 5, 5, 5, 5, 5, 5, 5, 5, 5, 5, 5, 5, 5, 5, 5, 5, 5, 5, 5, 5, 5, 5, 5, 5, 5, 5, 5, 5, 5, 5, 5, 5, 5, 5, 5, 5, 5, 5, 5, 5, 5, 5, 5, 5, 5, 5, 5, 5, 5, 5, 5, 5, 5, 5]\n"
     ]
    }
   ],
   "source": [
    "coef_fun_objetivo_1 = []\n",
    "for i in range(data.cantidad_ordenes):\n",
    "    valor_orden=data.ordenes[i].beneficio\n",
    "    for _ in range(TURNOS * DIAS):\n",
    "        coef_fun_objetivo_1.append(valor_orden)\n",
    "print(coef_fun_objetivo_1)"
   ]
  },
  {
   "cell_type": "code",
   "execution_count": 34,
   "metadata": {},
   "outputs": [],
   "source": [
    "def solve_lp(my_problem, data):\n",
    "    \n",
    "    # Resolvemos el ILP.\n",
    "    \n",
    "    my_problem.solve()\n",
    "\n",
    "    # Obtenemos informacion de la solucion. Esto lo hacemos a traves de 'solution'. \n",
    "    x_variables = my_problem.solution.get_values()\n",
    "    objective_value = my_problem.solution.get_objective_value()\n",
    "    status = my_problem.solution.get_status()\n",
    "    status_string = my_problem.solution.get_status_string(status_code = status)\n",
    "\n",
    "    print('Funcion objetivo: ',objective_value)\n",
    "    print('Status solucion: ',status_string,'(' + str(status) + ')')\n",
    "\n",
    "    # Imprimimos las variables usadas.\n",
    "    for i in range(len(x_variables)):\n",
    "        # Tomamos esto como valor de tolerancia, por cuestiones numericas.\n",
    "        if x_variables[i] > TOLERANCE:\n",
    "            print('x_' + str(data.items[i].index) + ':' , x_variables[i])\n"
   ]
  },
  {
   "cell_type": "code",
   "execution_count": null,
   "metadata": {},
   "outputs": [],
   "source": [
    "populate_by_row(prob_lp,data)"
   ]
  },
  {
   "cell_type": "markdown",
   "metadata": {},
   "source": []
  },
  {
   "cell_type": "markdown",
   "metadata": {},
   "source": []
  },
  {
   "cell_type": "code",
   "execution_count": 35,
   "metadata": {},
   "outputs": [],
   "source": [
    "data = get_instance_data()"
   ]
  },
  {
   "cell_type": "code",
   "execution_count": 61,
   "metadata": {},
   "outputs": [],
   "source": [
    "prob_lp = cplex.Cplex()"
   ]
  },
  {
   "cell_type": "code",
   "execution_count": null,
   "metadata": {},
   "outputs": [],
   "source": [
    "populate_by_row(prob_lp,data)"
   ]
  },
  {
   "cell_type": "code",
   "execution_count": null,
   "metadata": {},
   "outputs": [],
   "source": [
    "def main():\n",
    "    \n",
    "    # Obtenemos los datos de la instancia.\n",
    "    data = get_instance_data()\n",
    "    \n",
    "    \n",
    "    \n",
    "    # Definimos el problema de cplex.\n",
    "    prob_lp = cplex.Cplex()\n",
    "    \n",
    "    # Armamos el modelo.\n",
    "    populate_by_row(prob_lp,data)\n",
    "\n",
    "    # Resolvemos el modelo.\n",
    "    solve_lp(prob_lp,data)\n",
    "\n",
    "\n",
    "if __name__ == '__main__':\n",
    "    main()\n"
   ]
  },
  {
   "cell_type": "code",
   "execution_count": null,
   "metadata": {},
   "outputs": [],
   "source": []
  },
  {
   "cell_type": "code",
   "execution_count": null,
   "metadata": {},
   "outputs": [],
   "source": []
  },
  {
   "cell_type": "code",
   "execution_count": null,
   "metadata": {},
   "outputs": [],
   "source": []
  }
 ],
 "metadata": {
  "kernelspec": {
   "display_name": "OptimTP",
   "language": "python",
   "name": "python3"
  },
  "language_info": {
   "codemirror_mode": {
    "name": "ipython",
    "version": 3
   },
   "file_extension": ".py",
   "mimetype": "text/x-python",
   "name": "python",
   "nbconvert_exporter": "python",
   "pygments_lexer": "ipython3",
   "version": "3.10.2"
  },
  "orig_nbformat": 4
 },
 "nbformat": 4,
 "nbformat_minor": 2
}
